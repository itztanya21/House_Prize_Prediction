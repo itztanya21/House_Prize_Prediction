{
 "cells": [
  {
   "cell_type": "markdown",
   "id": "5c3d59c9-6121-4e25-8fea-134946e0c327",
   "metadata": {},
   "source": [
    "# House Price linear regression Project"
   ]
  },
  {
   "cell_type": "code",
   "execution_count": null,
   "id": "56143cfc-7580-44f7-8c58-74bc32f29874",
   "metadata": {},
   "outputs": [],
   "source": [
    "by using House data we train linear regression and try to predict new outcome"
   ]
  },
  {
   "cell_type": "code",
   "execution_count": null,
   "id": "c5b5cb42-6a52-44a4-a9eb-d219a39ffdd6",
   "metadata": {},
   "outputs": [],
   "source": [
    "1. libraries\n",
    "2. eda\n",
    "3. assumption\n",
    "    1. Linearity\n",
    "    2. No multicolinearity"
   ]
  },
  {
   "cell_type": "code",
   "execution_count": null,
   "id": "229c8754-2082-4edd-94da-7d93e4fe73cf",
   "metadata": {},
   "outputs": [],
   "source": [
    "1. libraries\n",
    "2. data gathering\n",
    "3. eda\n",
    "4. assumption\n",
    "5. training and testing\n",
    "6. model train\n",
    "7. evaluation\n",
    "8. check on new data"
   ]
  },
  {
   "cell_type": "markdown",
   "id": "3c3bb1e6-0a07-4709-a94c-1412ec296693",
   "metadata": {},
   "source": [
    "## 1. Problem statement"
   ]
  },
  {
   "cell_type": "code",
   "execution_count": null,
   "id": "cabb2356-3905-4d01-b750-94256b107243",
   "metadata": {},
   "outputs": [],
   "source": [
    "by using House data we train linear regression and try to predict new outcome"
   ]
  },
  {
   "cell_type": "markdown",
   "id": "6b8d75e3-798e-4740-86b8-1f2741f1fe07",
   "metadata": {},
   "source": [
    "## 2. Libreries import"
   ]
  },
  {
   "cell_type": "code",
   "execution_count": 191,
   "id": "488f7570-f02b-41dd-b2d4-034cf5f7f756",
   "metadata": {},
   "outputs": [],
   "source": [
    "import pandas as pd\n",
    "import numpy as np\n",
    "\n",
    "# visualization\n",
    "import seaborn as sns\n",
    "import matplotlib.pyplot as plt\n",
    "\n",
    "# Linear regression import\n",
    "from sklearn.linear_model import LinearRegression\n",
    "\n",
    "# train-test-split\n",
    "from sklearn.model_selection import train_test_split     #(train, test)\n",
    "\n",
    "# evaluation metrics\n",
    "from sklearn.metrics  import r2_score, mean_squared_error\n",
    "\n",
    "# vif (no multicolinearity)\n",
    "from statsmodels.stats.outliers_influence import variance_inflation_factor\n",
    "\n",
    "# scipy.stats as stats\n",
    "import scipy.stats as stats    # if we want any statistic model that time we can aslo use scipy.stats or your can use numpy stats function"
   ]
  },
  {
   "cell_type": "code",
   "execution_count": null,
   "id": "232f88c4-cdf5-4f7d-8fb5-a73216e45540",
   "metadata": {},
   "outputs": [],
   "source": [
    "r_squared       >> best fit line\n",
    "range  >> 0-1\n",
    "r>0.7           >> best algorith \n",
    "r<0.3 and r<0.7 >> moderate algorith\n",
    "r<0.3           >> algorith is not best"
   ]
  },
  {
   "cell_type": "code",
   "execution_count": null,
   "id": "bedd4f79-025f-4bf0-92ba-2d3f51c3a26c",
   "metadata": {},
   "outputs": [],
   "source": [
    "sklearn >> sckit-learn\n",
    "linear_model   >> LinearRegression, LogisticRegression\n",
    "\n",
    "100%  (1000)      # model_selection\n",
    "training = 80 - 800   # r^2 >> \n",
    "testing  = 20 - 200\n",
    "\n",
    "evaluation metrics\n",
    "best fit line\n",
    "mse  >> mean_squared_error   ()\n",
    "r_squared\n",
    "rmse"
   ]
  },
  {
   "cell_type": "markdown",
   "id": "5001af94-dc7e-4ac9-9ecd-44863eba54a3",
   "metadata": {},
   "source": [
    "# 3. Data Gathering"
   ]
  },
  {
   "cell_type": "code",
   "execution_count": 193,
   "id": "3ac8be7d-9d72-4c6b-aa67-204978f7a30b",
   "metadata": {},
   "outputs": [
    {
     "data": {
      "text/html": [
       "<div>\n",
       "<style scoped>\n",
       "    .dataframe tbody tr th:only-of-type {\n",
       "        vertical-align: middle;\n",
       "    }\n",
       "\n",
       "    .dataframe tbody tr th {\n",
       "        vertical-align: top;\n",
       "    }\n",
       "\n",
       "    .dataframe thead th {\n",
       "        text-align: right;\n",
       "    }\n",
       "</style>\n",
       "<table border=\"1\" class=\"dataframe\">\n",
       "  <thead>\n",
       "    <tr style=\"text-align: right;\">\n",
       "      <th></th>\n",
       "      <th>area</th>\n",
       "      <th>bedrooms</th>\n",
       "      <th>age</th>\n",
       "      <th>price</th>\n",
       "    </tr>\n",
       "  </thead>\n",
       "  <tbody>\n",
       "    <tr>\n",
       "      <th>0</th>\n",
       "      <td>1660</td>\n",
       "      <td>1</td>\n",
       "      <td>29</td>\n",
       "      <td>262054</td>\n",
       "    </tr>\n",
       "    <tr>\n",
       "      <th>1</th>\n",
       "      <td>4572</td>\n",
       "      <td>5</td>\n",
       "      <td>27</td>\n",
       "      <td>705629</td>\n",
       "    </tr>\n",
       "    <tr>\n",
       "      <th>2</th>\n",
       "      <td>3892</td>\n",
       "      <td>4</td>\n",
       "      <td>30</td>\n",
       "      <td>586737</td>\n",
       "    </tr>\n",
       "    <tr>\n",
       "      <th>3</th>\n",
       "      <td>1266</td>\n",
       "      <td>1</td>\n",
       "      <td>25</td>\n",
       "      <td>178622</td>\n",
       "    </tr>\n",
       "    <tr>\n",
       "      <th>4</th>\n",
       "      <td>4244</td>\n",
       "      <td>4</td>\n",
       "      <td>42</td>\n",
       "      <td>649809</td>\n",
       "    </tr>\n",
       "  </tbody>\n",
       "</table>\n",
       "</div>"
      ],
      "text/plain": [
       "   area  bedrooms  age   price\n",
       "0  1660         1   29  262054\n",
       "1  4572         5   27  705629\n",
       "2  3892         4   30  586737\n",
       "3  1266         1   25  178622\n",
       "4  4244         4   42  649809"
      ]
     },
     "execution_count": 193,
     "metadata": {},
     "output_type": "execute_result"
    }
   ],
   "source": [
    "# load the csv data by using pandas\n",
    "\n",
    "# y = 'price'                       # dependent column   target column\n",
    "# x = ['area','bedrooms', 'age']    # independent columns\n",
    "\n",
    "df = pd.read_csv(\"housing_5000.csv\")\n",
    "df.head()\n",
    "\n",
    "# df = pd.read_sql(\"file\")\n",
    "# pd.read_excel(\"file\")"
   ]
  },
  {
   "cell_type": "markdown",
   "id": "4172fcaf-e274-45ea-b6af-1acfc1502b88",
   "metadata": {},
   "source": [
    "# 4. EDA"
   ]
  },
  {
   "cell_type": "code",
   "execution_count": 95,
   "id": "835b2a56-0289-40f7-a05a-a4ef96616556",
   "metadata": {},
   "outputs": [
    {
     "data": {
      "text/plain": [
       "area        0\n",
       "bedrooms    0\n",
       "age         0\n",
       "price       0\n",
       "dtype: int64"
      ]
     },
     "execution_count": 95,
     "metadata": {},
     "output_type": "execute_result"
    }
   ],
   "source": [
    "df.isnull().sum()    # True"
   ]
  },
  {
   "cell_type": "code",
   "execution_count": 19,
   "id": "8b746e87-86f4-4eb9-b107-631b4e07f084",
   "metadata": {},
   "outputs": [
    {
     "name": "stdout",
     "output_type": "stream",
     "text": [
      "<class 'pandas.core.frame.DataFrame'>\n",
      "RangeIndex: 5000 entries, 0 to 4999\n",
      "Data columns (total 4 columns):\n",
      " #   Column    Non-Null Count  Dtype\n",
      "---  ------    --------------  -----\n",
      " 0   area      5000 non-null   int64\n",
      " 1   bedrooms  5000 non-null   int64\n",
      " 2   age       5000 non-null   int64\n",
      " 3   price     5000 non-null   int64\n",
      "dtypes: int64(4)\n",
      "memory usage: 156.4 KB\n"
     ]
    }
   ],
   "source": [
    "df.info()"
   ]
  },
  {
   "cell_type": "markdown",
   "id": "2db3e056-f420-485b-b436-524eb16b0807",
   "metadata": {},
   "source": [
    "# 5. assumption"
   ]
  },
  {
   "cell_type": "code",
   "execution_count": null,
   "id": "5223aff2-f68e-4539-89da-54c04aaf96fd",
   "metadata": {},
   "outputs": [],
   "source": [
    "df[i]"
   ]
  },
  {
   "cell_type": "code",
   "execution_count": 195,
   "id": "83ae72ed-121d-4aac-aa99-90dd4d1ae623",
   "metadata": {},
   "outputs": [
    {
     "data": {
      "image/png": "[encoded data removed]",
      "text/plain": [
       "<Figure size 640x480 with 1 Axes>"
      ]
     },
     "metadata": {},
     "output_type": "display_data"
    },
    {
     "data": {
      "image/png": "[encoded data removed]",
      "text/plain": [
       "<Figure size 640x480 with 1 Axes>"
      ]
     },
     "metadata": {},
     "output_type": "display_data"
    },
    {
     "data": {
      "image/png": "[encoded data removed]",
      "text/plain": [
       "<Figure size 640x480 with 1 Axes>"
      ]
     },
     "metadata": {},
     "output_type": "display_data"
    }
   ],
   "source": [
    "# assumption1 linearity ( feature vs target linearily correlated)\n",
    "\n",
    "features = ['area','bedrooms', 'age']\n",
    "\n",
    "for i in features:\n",
    "    sns.scatterplot(x=df[i], y=df['price'])\n",
    "    plt.title(f\"{i} vs Price\")\n",
    "    plt.show()"
   ]
  },
  {
   "cell_type": "code",
   "execution_count": null,
   "id": "09fca150-0405-4c92-885c-971310a5e4c7",
   "metadata": {},
   "outputs": [],
   "source": [
    "df.corr()              # r value"
   ]
  },
  {
   "cell_type": "code",
   "execution_count": 101,
   "id": "61ec5132-88a1-44a4-bd4d-10c1f1337669",
   "metadata": {},
   "outputs": [
    {
     "data": {
      "text/html": [
       "<div>\n",
       "<style scoped>\n",
       "    .dataframe tbody tr th:only-of-type {\n",
       "        vertical-align: middle;\n",
       "    }\n",
       "\n",
       "    .dataframe tbody tr th {\n",
       "        vertical-align: top;\n",
       "    }\n",
       "\n",
       "    .dataframe thead th {\n",
       "        text-align: right;\n",
       "    }\n",
       "</style>\n",
       "<table border=\"1\" class=\"dataframe\">\n",
       "  <thead>\n",
       "    <tr style=\"text-align: right;\">\n",
       "      <th></th>\n",
       "      <th>area</th>\n",
       "      <th>bedrooms</th>\n",
       "      <th>age</th>\n",
       "      <th>price</th>\n",
       "    </tr>\n",
       "  </thead>\n",
       "  <tbody>\n",
       "    <tr>\n",
       "      <th>area</th>\n",
       "      <td>1.000000</td>\n",
       "      <td>-0.003070</td>\n",
       "      <td>-0.011044</td>\n",
       "      <td>0.990157</td>\n",
       "    </tr>\n",
       "    <tr>\n",
       "      <th>bedrooms</th>\n",
       "      <td>-0.003070</td>\n",
       "      <td>1.000000</td>\n",
       "      <td>0.005294</td>\n",
       "      <td>0.074168</td>\n",
       "    </tr>\n",
       "    <tr>\n",
       "      <th>age</th>\n",
       "      <td>-0.011044</td>\n",
       "      <td>0.005294</td>\n",
       "      <td>1.000000</td>\n",
       "      <td>-0.050986</td>\n",
       "    </tr>\n",
       "    <tr>\n",
       "      <th>price</th>\n",
       "      <td>0.990157</td>\n",
       "      <td>0.074168</td>\n",
       "      <td>-0.050986</td>\n",
       "      <td>1.000000</td>\n",
       "    </tr>\n",
       "  </tbody>\n",
       "</table>\n",
       "</div>"
      ],
      "text/plain": [
       "              area  bedrooms       age     price\n",
       "area      1.000000 -0.003070 -0.011044  0.990157\n",
       "bedrooms -0.003070  1.000000  0.005294  0.074168\n",
       "age      -0.011044  0.005294  1.000000 -0.050986\n",
       "price     0.990157  0.074168 -0.050986  1.000000"
      ]
     },
     "execution_count": 101,
     "metadata": {},
     "output_type": "execute_result"
    }
   ],
   "source": [
    "df.corr()"
   ]
  },
  {
   "cell_type": "code",
   "execution_count": 24,
   "id": "dfe4e4a1-b9c0-4654-86da-d581851d6ca1",
   "metadata": {},
   "outputs": [
    {
     "data": {
      "text/plain": [
       "0.9901565695200935"
      ]
     },
     "execution_count": 24,
     "metadata": {},
     "output_type": "execute_result"
    }
   ],
   "source": [
    "df['area'].corr(df['price'])  \n",
    "\n",
    "# r value is 0.999\n",
    "r>0.7\n",
    "# area and price have strong correlation"
   ]
  },
  {
   "cell_type": "code",
   "execution_count": 26,
   "id": "507fc92e-9eea-4c58-b420-9fc73028f0c4",
   "metadata": {},
   "outputs": [
    {
     "data": {
      "text/plain": [
       "0.07416807137850269"
      ]
     },
     "execution_count": 26,
     "metadata": {},
     "output_type": "execute_result"
    }
   ],
   "source": [
    "df['bedrooms'].corr(df['price'])  \n",
    "# r values is 0.07\n",
    "# it is not good"
   ]
  },
  {
   "cell_type": "code",
   "execution_count": 28,
   "id": "54074370-38ed-43a4-9c70-032dbf938882",
   "metadata": {},
   "outputs": [
    {
     "data": {
      "text/plain": [
       "-0.050986340474560236"
      ]
     },
     "execution_count": 28,
     "metadata": {},
     "output_type": "execute_result"
    }
   ],
   "source": [
    "df['age'].corr(df['price'])  \n",
    "# r vlaues is not good"
   ]
  },
  {
   "cell_type": "code",
   "execution_count": null,
   "id": "5b7e8f15-3d14-4e91-9e4d-aeb6ac416102",
   "metadata": {},
   "outputs": [],
   "source": [
    "# 2. no multicoliearity\n",
    "\n",
    "features = ['area','bedrooms', 'age']\n",
    "vif = 1    >> no correlation\n",
    "vif = 5    >> moderate correlation\n",
    "vif >= 10  >> highly correlation between 2 or more independent variable"
   ]
  },
  {
   "cell_type": "code",
   "execution_count": 32,
   "id": "28b756a3-db48-4810-9b94-df56f0841ae8",
   "metadata": {},
   "outputs": [
    {
     "data": {
      "text/html": [
       "<div>\n",
       "<style scoped>\n",
       "    .dataframe tbody tr th:only-of-type {\n",
       "        vertical-align: middle;\n",
       "    }\n",
       "\n",
       "    .dataframe tbody tr th {\n",
       "        vertical-align: top;\n",
       "    }\n",
       "\n",
       "    .dataframe thead th {\n",
       "        text-align: right;\n",
       "    }\n",
       "</style>\n",
       "<table border=\"1\" class=\"dataframe\">\n",
       "  <thead>\n",
       "    <tr style=\"text-align: right;\">\n",
       "      <th></th>\n",
       "      <th>features</th>\n",
       "    </tr>\n",
       "  </thead>\n",
       "  <tbody>\n",
       "    <tr>\n",
       "      <th>0</th>\n",
       "      <td>area</td>\n",
       "    </tr>\n",
       "    <tr>\n",
       "      <th>1</th>\n",
       "      <td>bedrooms</td>\n",
       "    </tr>\n",
       "    <tr>\n",
       "      <th>2</th>\n",
       "      <td>age</td>\n",
       "    </tr>\n",
       "  </tbody>\n",
       "</table>\n",
       "</div>"
      ],
      "text/plain": [
       "   features\n",
       "0      area\n",
       "1  bedrooms\n",
       "2       age"
      ]
     },
     "execution_count": 32,
     "metadata": {},
     "output_type": "execute_result"
    }
   ],
   "source": [
    "features = ['area','bedrooms', 'age']\n",
    "x_temp = df[features]         # we create data frame\n",
    "vif_data = pd.DataFrame()\n",
    "\n",
    "vif_data['features'] = x_temp.columns\n",
    "vif_dat"
   ]
  },
  {
   "cell_type": "code",
   "execution_count": 79,
   "id": "b9b6e5b8-4d84-4eff-8f88-27ab33fc67d3",
   "metadata": {},
   "outputs": [],
   "source": [
    "features = ['area','bedrooms', 'age']\n",
    "x_temp = df[features]\n",
    "vif_data = pd.DataFrame()\n",
    "vif_data['features'] = x_temp.columns\n",
    "\n",
    "vif=[variance_inflation_factor(x_temp.values, i) for i in range(0,x_temp.shape[1])]\n",
    "vif_data[\"vif\"] = vif"
   ]
  },
  {
   "cell_type": "code",
   "execution_count": 81,
   "id": "27bd5ecb-d3d9-40de-8bef-21cf8128a862",
   "metadata": {},
   "outputs": [
    {
     "data": {
      "text/html": [
       "<div>\n",
       "<style scoped>\n",
       "    .dataframe tbody tr th:only-of-type {\n",
       "        vertical-align: middle;\n",
       "    }\n",
       "\n",
       "    .dataframe tbody tr th {\n",
       "        vertical-align: top;\n",
       "    }\n",
       "\n",
       "    .dataframe thead th {\n",
       "        text-align: right;\n",
       "    }\n",
       "</style>\n",
       "<table border=\"1\" class=\"dataframe\">\n",
       "  <thead>\n",
       "    <tr style=\"text-align: right;\">\n",
       "      <th></th>\n",
       "      <th>features</th>\n",
       "      <th>vif</th>\n",
       "    </tr>\n",
       "  </thead>\n",
       "  <tbody>\n",
       "    <tr>\n",
       "      <th>0</th>\n",
       "      <td>area</td>\n",
       "      <td>4.006158</td>\n",
       "    </tr>\n",
       "    <tr>\n",
       "      <th>1</th>\n",
       "      <td>bedrooms</td>\n",
       "      <td>3.747180</td>\n",
       "    </tr>\n",
       "    <tr>\n",
       "      <th>2</th>\n",
       "      <td>age</td>\n",
       "      <td>3.125617</td>\n",
       "    </tr>\n",
       "  </tbody>\n",
       "</table>\n",
       "</div>"
      ],
      "text/plain": [
       "   features       vif\n",
       "0      area  4.006158\n",
       "1  bedrooms  3.747180\n",
       "2       age  3.125617"
      ]
     },
     "execution_count": 81,
     "metadata": {},
     "output_type": "execute_result"
    }
   ],
   "source": [
    "vif_data"
   ]
  },
  {
   "cell_type": "code",
   "execution_count": 85,
   "id": "dae5abb6-060a-4c2f-9083-63237940ef2d",
   "metadata": {},
   "outputs": [
    {
     "data": {
      "text/plain": [
       "3"
      ]
     },
     "execution_count": 85,
     "metadata": {},
     "output_type": "execute_result"
    }
   ],
   "source": [
    "x_temp.shape[1]"
   ]
  },
  {
   "cell_type": "code",
   "execution_count": 44,
   "id": "617a7631-52f7-4aca-8c7c-5eae13f3245f",
   "metadata": {},
   "outputs": [
    {
     "data": {
      "text/plain": [
       "3"
      ]
     },
     "execution_count": 44,
     "metadata": {},
     "output_type": "execute_result"
    }
   ],
   "source": [
    "(5000, 3)"
   ]
  },
  {
   "cell_type": "code",
   "execution_count": 87,
   "id": "839443bc-5522-40a7-81ce-a59098f1f5e7",
   "metadata": {},
   "outputs": [],
   "source": [
    "features = ['area','bedrooms', 'age']\n",
    "x_temp = df[features]\n",
    "vif_data = pd.DataFrame()\n",
    "vif_data['features'] = x_temp.columns\n",
    "\n",
    "vif=[variance_inflation_factor(x_temp.values, i) for i in range(0,3)]\n",
    "vif_data[\"vif\"] = vif"
   ]
  },
  {
   "cell_type": "code",
   "execution_count": 155,
   "id": "8d6b6517-2fdb-4ce4-ae35-83874f0683ad",
   "metadata": {},
   "outputs": [],
   "source": [
    "features = ['area','bedrooms', 'age']\n",
    "x_temp = df[features]\n",
    "vif_data = pd.DataFrame()\n",
    "vif_data['features'] = x_temp.columns\n",
    "\n",
    "for i in range(0,x_temp.shape[1]):\n",
    "    vif = variance_inflation_factor(x_temp.values, i)\n",
    "    vif_data['vif']=vif"
   ]
  },
  {
   "cell_type": "code",
   "execution_count": 157,
   "id": "cab0382c-06c5-4f81-9c4c-de7c5af94d6c",
   "metadata": {},
   "outputs": [
    {
     "data": {
      "text/html": [
       "<div>\n",
       "<style scoped>\n",
       "    .dataframe tbody tr th:only-of-type {\n",
       "        vertical-align: middle;\n",
       "    }\n",
       "\n",
       "    .dataframe tbody tr th {\n",
       "        vertical-align: top;\n",
       "    }\n",
       "\n",
       "    .dataframe thead th {\n",
       "        text-align: right;\n",
       "    }\n",
       "</style>\n",
       "<table border=\"1\" class=\"dataframe\">\n",
       "  <thead>\n",
       "    <tr style=\"text-align: right;\">\n",
       "      <th></th>\n",
       "      <th>features</th>\n",
       "      <th>vif</th>\n",
       "    </tr>\n",
       "  </thead>\n",
       "  <tbody>\n",
       "    <tr>\n",
       "      <th>0</th>\n",
       "      <td>area</td>\n",
       "      <td>3.125617</td>\n",
       "    </tr>\n",
       "    <tr>\n",
       "      <th>1</th>\n",
       "      <td>bedrooms</td>\n",
       "      <td>3.125617</td>\n",
       "    </tr>\n",
       "    <tr>\n",
       "      <th>2</th>\n",
       "      <td>age</td>\n",
       "      <td>3.125617</td>\n",
       "    </tr>\n",
       "  </tbody>\n",
       "</table>\n",
       "</div>"
      ],
      "text/plain": [
       "   features       vif\n",
       "0      area  3.125617\n",
       "1  bedrooms  3.125617\n",
       "2       age  3.125617"
      ]
     },
     "execution_count": 157,
     "metadata": {},
     "output_type": "execute_result"
    }
   ],
   "source": [
    "vif_data"
   ]
  },
  {
   "cell_type": "code",
   "execution_count": 123,
   "id": "32361990-d7da-4f44-b632-ee69b46c4aa6",
   "metadata": {},
   "outputs": [
    {
     "data": {
      "text/plain": [
       "array([[1660,    1,   29],\n",
       "       [4572,    5,   27],\n",
       "       [3892,    4,   30],\n",
       "       ...,\n",
       "       [1833,    4,   31],\n",
       "       [3281,    1,   26],\n",
       "       [ 924,    5,   32]], dtype=int64)"
      ]
     },
     "execution_count": 123,
     "metadata": {},
     "output_type": "execute_result"
    }
   ],
   "source": [
    "x_temp.values"
   ]
  },
  {
   "cell_type": "code",
   "execution_count": null,
   "id": "ce0dd24d-b089-4aa5-8531-b212bff53ba9",
   "metadata": {},
   "outputs": [],
   "source": [
    "[[1,2,3],[11,22,33],[10,20,30]]\n"
   ]
  },
  {
   "cell_type": "code",
   "execution_count": 141,
   "id": "7b023c7c-a031-4504-8cd4-7438db8eed65",
   "metadata": {},
   "outputs": [
    {
     "data": {
      "text/html": [
       "<div>\n",
       "<style scoped>\n",
       "    .dataframe tbody tr th:only-of-type {\n",
       "        vertical-align: middle;\n",
       "    }\n",
       "\n",
       "    .dataframe tbody tr th {\n",
       "        vertical-align: top;\n",
       "    }\n",
       "\n",
       "    .dataframe thead th {\n",
       "        text-align: right;\n",
       "    }\n",
       "</style>\n",
       "<table border=\"1\" class=\"dataframe\">\n",
       "  <thead>\n",
       "    <tr style=\"text-align: right;\">\n",
       "      <th></th>\n",
       "      <th>area</th>\n",
       "      <th>bedrooms</th>\n",
       "      <th>age</th>\n",
       "    </tr>\n",
       "  </thead>\n",
       "  <tbody>\n",
       "    <tr>\n",
       "      <th>0</th>\n",
       "      <td>1660</td>\n",
       "      <td>1</td>\n",
       "      <td>29</td>\n",
       "    </tr>\n",
       "    <tr>\n",
       "      <th>1</th>\n",
       "      <td>4572</td>\n",
       "      <td>5</td>\n",
       "      <td>27</td>\n",
       "    </tr>\n",
       "  </tbody>\n",
       "</table>\n",
       "</div>"
      ],
      "text/plain": [
       "   area  bedrooms  age\n",
       "0  1660         1   29\n",
       "1  4572         5   27"
      ]
     },
     "execution_count": 141,
     "metadata": {},
     "output_type": "execute_result"
    }
   ],
   "source": [
    "x_temp.head(2)"
   ]
  },
  {
   "cell_type": "code",
   "execution_count": 139,
   "id": "2e1dece2-2859-4af2-8ff4-588964462f46",
   "metadata": {},
   "outputs": [
    {
     "data": {
      "text/plain": [
       "array([[1660,    1,   29],\n",
       "       [4572,    5,   27],\n",
       "       [3892,    4,   30],\n",
       "       ...,\n",
       "       [1833,    4,   31],\n",
       "       [3281,    1,   26],\n",
       "       [ 924,    5,   32]], dtype=int64)"
      ]
     },
     "execution_count": 139,
     "metadata": {},
     "output_type": "execute_result"
    }
   ],
   "source": [
    "x_temp.values\n",
    "# [[],[],[]]"
   ]
  },
  {
   "cell_type": "code",
   "execution_count": 159,
   "id": "8fdceea2-e249-425c-8e94-30ac4981f5e2",
   "metadata": {},
   "outputs": [],
   "source": [
    "features = ['area','bedrooms', 'age']\n",
    "x_temp = df[features]\n",
    "vif_data = pd.DataFrame()\n",
    "vif_data['features'] = x_temp.columns\n",
    "\n",
    "vif_data['vif']=[variance_inflation_factor(x_temp.values, i) for i in range(0,x_temp.shape[1])]\n"
   ]
  },
  {
   "cell_type": "code",
   "execution_count": 161,
   "id": "a52f29be-5eec-4821-ae72-fb3a522f6537",
   "metadata": {},
   "outputs": [
    {
     "data": {
      "text/html": [
       "<div>\n",
       "<style scoped>\n",
       "    .dataframe tbody tr th:only-of-type {\n",
       "        vertical-align: middle;\n",
       "    }\n",
       "\n",
       "    .dataframe tbody tr th {\n",
       "        vertical-align: top;\n",
       "    }\n",
       "\n",
       "    .dataframe thead th {\n",
       "        text-align: right;\n",
       "    }\n",
       "</style>\n",
       "<table border=\"1\" class=\"dataframe\">\n",
       "  <thead>\n",
       "    <tr style=\"text-align: right;\">\n",
       "      <th></th>\n",
       "      <th>features</th>\n",
       "      <th>vif</th>\n",
       "    </tr>\n",
       "  </thead>\n",
       "  <tbody>\n",
       "    <tr>\n",
       "      <th>0</th>\n",
       "      <td>area</td>\n",
       "      <td>4.006158</td>\n",
       "    </tr>\n",
       "    <tr>\n",
       "      <th>1</th>\n",
       "      <td>bedrooms</td>\n",
       "      <td>3.747180</td>\n",
       "    </tr>\n",
       "    <tr>\n",
       "      <th>2</th>\n",
       "      <td>age</td>\n",
       "      <td>3.125617</td>\n",
       "    </tr>\n",
       "  </tbody>\n",
       "</table>\n",
       "</div>"
      ],
      "text/plain": [
       "   features       vif\n",
       "0      area  4.006158\n",
       "1  bedrooms  3.747180\n",
       "2       age  3.125617"
      ]
     },
     "execution_count": 161,
     "metadata": {},
     "output_type": "execute_result"
    }
   ],
   "source": [
    "vif_data"
   ]
  },
  {
   "cell_type": "markdown",
   "id": "9a77a1ba-6773-428c-b5d0-30a28da6158c",
   "metadata": {},
   "source": [
    "# 5 Train-test split"
   ]
  },
  {
   "cell_type": "code",
   "execution_count": null,
   "id": "0c119f4a-da3e-4565-a1c9-8b70379cec26",
   "metadata": {},
   "outputs": [],
   "source": [
    "100\n",
    "80 train\n",
    "20 test"
   ]
  },
  {
   "cell_type": "code",
   "execution_count": 197,
   "id": "50c309b3-06d9-4221-a9cc-f71150f5c1ae",
   "metadata": {},
   "outputs": [],
   "source": [
    "x = df[['area','bedrooms', 'age']]   # 80 train, 20 test\n",
    "y = df['price']                      # 80 train, 20 test"
   ]
  },
  {
   "cell_type": "code",
   "execution_count": null,
   "id": "94798eb1-1f35-4f92-8e50-a5eafbde7c29",
   "metadata": {},
   "outputs": [],
   "source": [
    "100\n",
    "test_size = 0.2   20%\n",
    "x = t_train, x_test\n",
    "y = y_train, y_test\n",
    "\n",
    "random_state = 42(True)   between 1,99"
   ]
  },
  {
   "cell_type": "code",
   "execution_count": 199,
   "id": "1ccd61b5-2abc-468c-90f4-eff1a6924d30",
   "metadata": {},
   "outputs": [],
   "source": [
    "x_train, x_test,y_train,y_test = train_test_split(x,y, test_size = 0.2, random_state=42)"
   ]
  },
  {
   "cell_type": "code",
   "execution_count": 201,
   "id": "299c5970-d533-4f72-88f6-edce3849f2c0",
   "metadata": {
    "scrolled": true
   },
   "outputs": [
    {
     "data": {
      "text/html": [
       "<div>\n",
       "<style scoped>\n",
       "    .dataframe tbody tr th:only-of-type {\n",
       "        vertical-align: middle;\n",
       "    }\n",
       "\n",
       "    .dataframe tbody tr th {\n",
       "        vertical-align: top;\n",
       "    }\n",
       "\n",
       "    .dataframe thead th {\n",
       "        text-align: right;\n",
       "    }\n",
       "</style>\n",
       "<table border=\"1\" class=\"dataframe\">\n",
       "  <thead>\n",
       "    <tr style=\"text-align: right;\">\n",
       "      <th></th>\n",
       "      <th>area</th>\n",
       "      <th>bedrooms</th>\n",
       "      <th>age</th>\n",
       "    </tr>\n",
       "  </thead>\n",
       "  <tbody>\n",
       "    <tr>\n",
       "      <th>1501</th>\n",
       "      <td>2833</td>\n",
       "      <td>2</td>\n",
       "      <td>45</td>\n",
       "    </tr>\n",
       "    <tr>\n",
       "      <th>2586</th>\n",
       "      <td>2663</td>\n",
       "      <td>1</td>\n",
       "      <td>22</td>\n",
       "    </tr>\n",
       "    <tr>\n",
       "      <th>2653</th>\n",
       "      <td>3142</td>\n",
       "      <td>4</td>\n",
       "      <td>26</td>\n",
       "    </tr>\n",
       "    <tr>\n",
       "      <th>1055</th>\n",
       "      <td>1414</td>\n",
       "      <td>3</td>\n",
       "      <td>16</td>\n",
       "    </tr>\n",
       "    <tr>\n",
       "      <th>705</th>\n",
       "      <td>809</td>\n",
       "      <td>5</td>\n",
       "      <td>10</td>\n",
       "    </tr>\n",
       "    <tr>\n",
       "      <th>...</th>\n",
       "      <td>...</td>\n",
       "      <td>...</td>\n",
       "      <td>...</td>\n",
       "    </tr>\n",
       "    <tr>\n",
       "      <th>4711</th>\n",
       "      <td>1278</td>\n",
       "      <td>4</td>\n",
       "      <td>24</td>\n",
       "    </tr>\n",
       "    <tr>\n",
       "      <th>2313</th>\n",
       "      <td>2099</td>\n",
       "      <td>2</td>\n",
       "      <td>43</td>\n",
       "    </tr>\n",
       "    <tr>\n",
       "      <th>3214</th>\n",
       "      <td>4142</td>\n",
       "      <td>2</td>\n",
       "      <td>10</td>\n",
       "    </tr>\n",
       "    <tr>\n",
       "      <th>2732</th>\n",
       "      <td>4037</td>\n",
       "      <td>4</td>\n",
       "      <td>22</td>\n",
       "    </tr>\n",
       "    <tr>\n",
       "      <th>1926</th>\n",
       "      <td>1446</td>\n",
       "      <td>4</td>\n",
       "      <td>18</td>\n",
       "    </tr>\n",
       "  </tbody>\n",
       "</table>\n",
       "<p>1000 rows × 3 columns</p>\n",
       "</div>"
      ],
      "text/plain": [
       "      area  bedrooms  age\n",
       "1501  2833         2   45\n",
       "2586  2663         1   22\n",
       "2653  3142         4   26\n",
       "1055  1414         3   16\n",
       "705    809         5   10\n",
       "...    ...       ...  ...\n",
       "4711  1278         4   24\n",
       "2313  2099         2   43\n",
       "3214  4142         2   10\n",
       "2732  4037         4   22\n",
       "1926  1446         4   18\n",
       "\n",
       "[1000 rows x 3 columns]"
      ]
     },
     "execution_count": 201,
     "metadata": {},
     "output_type": "execute_result"
    }
   ],
   "source": [
    "x_test"
   ]
  },
  {
   "cell_type": "code",
   "execution_count": 183,
   "id": "a912c9b5-9d94-427f-9546-821f4494575a",
   "metadata": {},
   "outputs": [
    {
     "data": {
      "text/html": [
       "<div>\n",
       "<style scoped>\n",
       "    .dataframe tbody tr th:only-of-type {\n",
       "        vertical-align: middle;\n",
       "    }\n",
       "\n",
       "    .dataframe tbody tr th {\n",
       "        vertical-align: top;\n",
       "    }\n",
       "\n",
       "    .dataframe thead th {\n",
       "        text-align: right;\n",
       "    }\n",
       "</style>\n",
       "<table border=\"1\" class=\"dataframe\">\n",
       "  <thead>\n",
       "    <tr style=\"text-align: right;\">\n",
       "      <th></th>\n",
       "      <th>area</th>\n",
       "      <th>bedrooms</th>\n",
       "      <th>age</th>\n",
       "    </tr>\n",
       "  </thead>\n",
       "  <tbody>\n",
       "    <tr>\n",
       "      <th>4227</th>\n",
       "      <td>4842</td>\n",
       "      <td>2</td>\n",
       "      <td>31</td>\n",
       "    </tr>\n",
       "  </tbody>\n",
       "</table>\n",
       "</div>"
      ],
      "text/plain": [
       "      area  bedrooms  age\n",
       "4227  4842         2   31"
      ]
     },
     "execution_count": 183,
     "metadata": {},
     "output_type": "execute_result"
    }
   ],
   "source": [
    "x_train.head(1)     721396"
   ]
  },
  {
   "cell_type": "code",
   "execution_count": 185,
   "id": "b975023b-35ac-487f-a11a-623634dd4220",
   "metadata": {},
   "outputs": [
    {
     "data": {
      "text/plain": [
       "4227    721396\n",
       "4676    291293\n",
       "800     557759\n",
       "3671    754241\n",
       "4193    292600\n",
       "         ...  \n",
       "4426    540891\n",
       "466     680421\n",
       "3092    181084\n",
       "3772    577127\n",
       "860     505008\n",
       "Name: price, Length: 4000, dtype: int64"
      ]
     },
     "execution_count": 185,
     "metadata": {},
     "output_type": "execute_result"
    }
   ],
   "source": [
    "y_train"
   ]
  },
  {
   "cell_type": "markdown",
   "id": "b5b584af-5251-44e0-8447-96aad0484c8d",
   "metadata": {},
   "source": [
    "# step 6 Train the model"
   ]
  },
  {
   "cell_type": "code",
   "execution_count": null,
   "id": "d6db2073-adca-402e-b340-2ce5d33f413c",
   "metadata": {},
   "outputs": [],
   "source": [
    "fit   >> we just store data or we give data for traing"
   ]
  },
  {
   "cell_type": "code",
   "execution_count": 203,
   "id": "4c860f78-e621-45ea-bd27-5f6155573336",
   "metadata": {},
   "outputs": [
    {
     "data": {
      "text/html": [
       "<style>#sk-container-id-2 {\n",
       "  /* Definition of color scheme common for light and dark mode */\n",
       "  --sklearn-color-text: black;\n",
       "  --sklearn-color-line: gray;\n",
       "  /* Definition of color scheme for unfitted estimators */\n",
       "  --sklearn-color-unfitted-level-0: #fff5e6;\n",
       "  --sklearn-color-unfitted-level-1: #f6e4d2;\n",
       "  --sklearn-color-unfitted-level-2: #ffe0b3;\n",
       "  --sklearn-color-unfitted-level-3: chocolate;\n",
       "  /* Definition of color scheme for fitted estimators */\n",
       "  --sklearn-color-fitted-level-0: #f0f8ff;\n",
       "  --sklearn-color-fitted-level-1: #d4ebff;\n",
       "  --sklearn-color-fitted-level-2: #b3dbfd;\n",
       "  --sklearn-color-fitted-level-3: cornflowerblue;\n",
       "\n",
       "  /* Specific color for light theme */\n",
       "  --sklearn-color-text-on-default-background: var(--sg-text-color, var(--theme-code-foreground, var(--jp-content-font-color1, black)));\n",
       "  --sklearn-color-background: var(--sg-background-color, var(--theme-background, var(--jp-layout-color0, white)));\n",
       "  --sklearn-color-border-box: var(--sg-text-color, var(--theme-code-foreground, var(--jp-content-font-color1, black)));\n",
       "  --sklearn-color-icon: #696969;\n",
       "\n",
       "  @media (prefers-color-scheme: dark) {\n",
       "    /* Redefinition of color scheme for dark theme */\n",
       "    --sklearn-color-text-on-default-background: var(--sg-text-color, var(--theme-code-foreground, var(--jp-content-font-color1, white)));\n",
       "    --sklearn-color-background: var(--sg-background-color, var(--theme-background, var(--jp-layout-color0, #111)));\n",
       "    --sklearn-color-border-box: var(--sg-text-color, var(--theme-code-foreground, var(--jp-content-font-color1, white)));\n",
       "    --sklearn-color-icon: #878787;\n",
       "  }\n",
       "}\n",
       "\n",
       "#sk-container-id-2 {\n",
       "  color: var(--sklearn-color-text);\n",
       "}\n",
       "\n",
       "#sk-container-id-2 pre {\n",
       "  padding: 0;\n",
       "}\n",
       "\n",
       "#sk-container-id-2 input.sk-hidden--visually {\n",
       "  border: 0;\n",
       "  clip: rect(1px 1px 1px 1px);\n",
       "  clip: rect(1px, 1px, 1px, 1px);\n",
       "  height: 1px;\n",
       "  margin: -1px;\n",
       "  overflow: hidden;\n",
       "  padding: 0;\n",
       "  position: absolute;\n",
       "  width: 1px;\n",
       "}\n",
       "\n",
       "#sk-container-id-2 div.sk-dashed-wrapped {\n",
       "  border: 1px dashed var(--sklearn-color-line);\n",
       "  margin: 0 0.4em 0.5em 0.4em;\n",
       "  box-sizing: border-box;\n",
       "  padding-bottom: 0.4em;\n",
       "  background-color: var(--sklearn-color-background);\n",
       "}\n",
       "\n",
       "#sk-container-id-2 div.sk-container {\n",
       "  /* jupyter's `normalize.less` sets `[hidden] { display: none; }`\n",
       "     but bootstrap.min.css set `[hidden] { display: none !important; }`\n",
       "     so we also need the `!important` here to be able to override the\n",
       "     default hidden behavior on the sphinx rendered scikit-learn.org.\n",
       "     See: https://github.com/scikit-learn/scikit-learn/issues/21755 */\n",
       "  display: inline-block !important;\n",
       "  position: relative;\n",
       "}\n",
       "\n",
       "#sk-container-id-2 div.sk-text-repr-fallback {\n",
       "  display: none;\n",
       "}\n",
       "\n",
       "div.sk-parallel-item,\n",
       "div.sk-serial,\n",
       "div.sk-item {\n",
       "  /* draw centered vertical line to link estimators */\n",
       "  background-image: linear-gradient(var(--sklearn-color-text-on-default-background), var(--sklearn-color-text-on-default-background));\n",
       "  background-size: 2px 100%;\n",
       "  background-repeat: no-repeat;\n",
       "  background-position: center center;\n",
       "}\n",
       "\n",
       "/* Parallel-specific style estimator block */\n",
       "\n",
       "#sk-container-id-2 div.sk-parallel-item::after {\n",
       "  content: \"\";\n",
       "  width: 100%;\n",
       "  border-bottom: 2px solid var(--sklearn-color-text-on-default-background);\n",
       "  flex-grow: 1;\n",
       "}\n",
       "\n",
       "#sk-container-id-2 div.sk-parallel {\n",
       "  display: flex;\n",
       "  align-items: stretch;\n",
       "  justify-content: center;\n",
       "  background-color: var(--sklearn-color-background);\n",
       "  position: relative;\n",
       "}\n",
       "\n",
       "#sk-container-id-2 div.sk-parallel-item {\n",
       "  display: flex;\n",
       "  flex-direction: column;\n",
       "}\n",
       "\n",
       "#sk-container-id-2 div.sk-parallel-item:first-child::after {\n",
       "  align-self: flex-end;\n",
       "  width: 50%;\n",
       "}\n",
       "\n",
       "#sk-container-id-2 div.sk-parallel-item:last-child::after {\n",
       "  align-self: flex-start;\n",
       "  width: 50%;\n",
       "}\n",
       "\n",
       "#sk-container-id-2 div.sk-parallel-item:only-child::after {\n",
       "  width: 0;\n",
       "}\n",
       "\n",
       "/* Serial-specific style estimator block */\n",
       "\n",
       "#sk-container-id-2 div.sk-serial {\n",
       "  display: flex;\n",
       "  flex-direction: column;\n",
       "  align-items: center;\n",
       "  background-color: var(--sklearn-color-background);\n",
       "  padding-right: 1em;\n",
       "  padding-left: 1em;\n",
       "}\n",
       "\n",
       "\n",
       "/* Toggleable style: style used for estimator/Pipeline/ColumnTransformer box that is\n",
       "clickable and can be expanded/collapsed.\n",
       "- Pipeline and ColumnTransformer use this feature and define the default style\n",
       "- Estimators will overwrite some part of the style using the `sk-estimator` class\n",
       "*/\n",
       "\n",
       "/* Pipeline and ColumnTransformer style (default) */\n",
       "\n",
       "#sk-container-id-2 div.sk-toggleable {\n",
       "  /* Default theme specific background. It is overwritten whether we have a\n",
       "  specific estimator or a Pipeline/ColumnTransformer */\n",
       "  background-color: var(--sklearn-color-background);\n",
       "}\n",
       "\n",
       "/* Toggleable label */\n",
       "#sk-container-id-2 label.sk-toggleable__label {\n",
       "  cursor: pointer;\n",
       "  display: block;\n",
       "  width: 100%;\n",
       "  margin-bottom: 0;\n",
       "  padding: 0.5em;\n",
       "  box-sizing: border-box;\n",
       "  text-align: center;\n",
       "}\n",
       "\n",
       "#sk-container-id-2 label.sk-toggleable__label-arrow:before {\n",
       "  /* Arrow on the left of the label */\n",
       "  content: \"▸\";\n",
       "  float: left;\n",
       "  margin-right: 0.25em;\n",
       "  color: var(--sklearn-color-icon);\n",
       "}\n",
       "\n",
       "#sk-container-id-2 label.sk-toggleable__label-arrow:hover:before {\n",
       "  color: var(--sklearn-color-text);\n",
       "}\n",
       "\n",
       "/* Toggleable content - dropdown */\n",
       "\n",
       "#sk-container-id-2 div.sk-toggleable__content {\n",
       "  max-height: 0;\n",
       "  max-width: 0;\n",
       "  overflow: hidden;\n",
       "  text-align: left;\n",
       "  /* unfitted */\n",
       "  background-color: var(--sklearn-color-unfitted-level-0);\n",
       "}\n",
       "\n",
       "#sk-container-id-2 div.sk-toggleable__content.fitted {\n",
       "  /* fitted */\n",
       "  background-color: var(--sklearn-color-fitted-level-0);\n",
       "}\n",
       "\n",
       "#sk-container-id-2 div.sk-toggleable__content pre {\n",
       "  margin: 0.2em;\n",
       "  border-radius: 0.25em;\n",
       "  color: var(--sklearn-color-text);\n",
       "  /* unfitted */\n",
       "  background-color: var(--sklearn-color-unfitted-level-0);\n",
       "}\n",
       "\n",
       "#sk-container-id-2 div.sk-toggleable__content.fitted pre {\n",
       "  /* unfitted */\n",
       "  background-color: var(--sklearn-color-fitted-level-0);\n",
       "}\n",
       "\n",
       "#sk-container-id-2 input.sk-toggleable__control:checked~div.sk-toggleable__content {\n",
       "  /* Expand drop-down */\n",
       "  max-height: 200px;\n",
       "  max-width: 100%;\n",
       "  overflow: auto;\n",
       "}\n",
       "\n",
       "#sk-container-id-2 input.sk-toggleable__control:checked~label.sk-toggleable__label-arrow:before {\n",
       "  content: \"▾\";\n",
       "}\n",
       "\n",
       "/* Pipeline/ColumnTransformer-specific style */\n",
       "\n",
       "#sk-container-id-2 div.sk-label input.sk-toggleable__control:checked~label.sk-toggleable__label {\n",
       "  color: var(--sklearn-color-text);\n",
       "  background-color: var(--sklearn-color-unfitted-level-2);\n",
       "}\n",
       "\n",
       "#sk-container-id-2 div.sk-label.fitted input.sk-toggleable__control:checked~label.sk-toggleable__label {\n",
       "  background-color: var(--sklearn-color-fitted-level-2);\n",
       "}\n",
       "\n",
       "/* Estimator-specific style */\n",
       "\n",
       "/* Colorize estimator box */\n",
       "#sk-container-id-2 div.sk-estimator input.sk-toggleable__control:checked~label.sk-toggleable__label {\n",
       "  /* unfitted */\n",
       "  background-color: var(--sklearn-color-unfitted-level-2);\n",
       "}\n",
       "\n",
       "#sk-container-id-2 div.sk-estimator.fitted input.sk-toggleable__control:checked~label.sk-toggleable__label {\n",
       "  /* fitted */\n",
       "  background-color: var(--sklearn-color-fitted-level-2);\n",
       "}\n",
       "\n",
       "#sk-container-id-2 div.sk-label label.sk-toggleable__label,\n",
       "#sk-container-id-2 div.sk-label label {\n",
       "  /* The background is the default theme color */\n",
       "  color: var(--sklearn-color-text-on-default-background);\n",
       "}\n",
       "\n",
       "/* On hover, darken the color of the background */\n",
       "#sk-container-id-2 div.sk-label:hover label.sk-toggleable__label {\n",
       "  color: var(--sklearn-color-text);\n",
       "  background-color: var(--sklearn-color-unfitted-level-2);\n",
       "}\n",
       "\n",
       "/* Label box, darken color on hover, fitted */\n",
       "#sk-container-id-2 div.sk-label.fitted:hover label.sk-toggleable__label.fitted {\n",
       "  color: var(--sklearn-color-text);\n",
       "  background-color: var(--sklearn-color-fitted-level-2);\n",
       "}\n",
       "\n",
       "/* Estimator label */\n",
       "\n",
       "#sk-container-id-2 div.sk-label label {\n",
       "  font-family: monospace;\n",
       "  font-weight: bold;\n",
       "  display: inline-block;\n",
       "  line-height: 1.2em;\n",
       "}\n",
       "\n",
       "#sk-container-id-2 div.sk-label-container {\n",
       "  text-align: center;\n",
       "}\n",
       "\n",
       "/* Estimator-specific */\n",
       "#sk-container-id-2 div.sk-estimator {\n",
       "  font-family: monospace;\n",
       "  border: 1px dotted var(--sklearn-color-border-box);\n",
       "  border-radius: 0.25em;\n",
       "  box-sizing: border-box;\n",
       "  margin-bottom: 0.5em;\n",
       "  /* unfitted */\n",
       "  background-color: var(--sklearn-color-unfitted-level-0);\n",
       "}\n",
       "\n",
       "#sk-container-id-2 div.sk-estimator.fitted {\n",
       "  /* fitted */\n",
       "  background-color: var(--sklearn-color-fitted-level-0);\n",
       "}\n",
       "\n",
       "/* on hover */\n",
       "#sk-container-id-2 div.sk-estimator:hover {\n",
       "  /* unfitted */\n",
       "  background-color: var(--sklearn-color-unfitted-level-2);\n",
       "}\n",
       "\n",
       "#sk-container-id-2 div.sk-estimator.fitted:hover {\n",
       "  /* fitted */\n",
       "  background-color: var(--sklearn-color-fitted-level-2);\n",
       "}\n",
       "\n",
       "/* Specification for estimator info (e.g. \"i\" and \"?\") */\n",
       "\n",
       "/* Common style for \"i\" and \"?\" */\n",
       "\n",
       ".sk-estimator-doc-link,\n",
       "a:link.sk-estimator-doc-link,\n",
       "a:visited.sk-estimator-doc-link {\n",
       "  float: right;\n",
       "  font-size: smaller;\n",
       "  line-height: 1em;\n",
       "  font-family: monospace;\n",
       "  background-color: var(--sklearn-color-background);\n",
       "  border-radius: 1em;\n",
       "  height: 1em;\n",
       "  width: 1em;\n",
       "  text-decoration: none !important;\n",
       "  margin-left: 1ex;\n",
       "  /* unfitted */\n",
       "  border: var(--sklearn-color-unfitted-level-1) 1pt solid;\n",
       "  color: var(--sklearn-color-unfitted-level-1);\n",
       "}\n",
       "\n",
       ".sk-estimator-doc-link.fitted,\n",
       "a:link.sk-estimator-doc-link.fitted,\n",
       "a:visited.sk-estimator-doc-link.fitted {\n",
       "  /* fitted */\n",
       "  border: var(--sklearn-color-fitted-level-1) 1pt solid;\n",
       "  color: var(--sklearn-color-fitted-level-1);\n",
       "}\n",
       "\n",
       "/* On hover */\n",
       "div.sk-estimator:hover .sk-estimator-doc-link:hover,\n",
       ".sk-estimator-doc-link:hover,\n",
       "div.sk-label-container:hover .sk-estimator-doc-link:hover,\n",
       ".sk-estimator-doc-link:hover {\n",
       "  /* unfitted */\n",
       "  background-color: var(--sklearn-color-unfitted-level-3);\n",
       "  color: var(--sklearn-color-background);\n",
       "  text-decoration: none;\n",
       "}\n",
       "\n",
       "div.sk-estimator.fitted:hover .sk-estimator-doc-link.fitted:hover,\n",
       ".sk-estimator-doc-link.fitted:hover,\n",
       "div.sk-label-container:hover .sk-estimator-doc-link.fitted:hover,\n",
       ".sk-estimator-doc-link.fitted:hover {\n",
       "  /* fitted */\n",
       "  background-color: var(--sklearn-color-fitted-level-3);\n",
       "  color: var(--sklearn-color-background);\n",
       "  text-decoration: none;\n",
       "}\n",
       "\n",
       "/* Span, style for the box shown on hovering the info icon */\n",
       ".sk-estimator-doc-link span {\n",
       "  display: none;\n",
       "  z-index: 9999;\n",
       "  position: relative;\n",
       "  font-weight: normal;\n",
       "  right: .2ex;\n",
       "  padding: .5ex;\n",
       "  margin: .5ex;\n",
       "  width: min-content;\n",
       "  min-width: 20ex;\n",
       "  max-width: 50ex;\n",
       "  color: var(--sklearn-color-text);\n",
       "  box-shadow: 2pt 2pt 4pt #999;\n",
       "  /* unfitted */\n",
       "  background: var(--sklearn-color-unfitted-level-0);\n",
       "  border: .5pt solid var(--sklearn-color-unfitted-level-3);\n",
       "}\n",
       "\n",
       ".sk-estimator-doc-link.fitted span {\n",
       "  /* fitted */\n",
       "  background: var(--sklearn-color-fitted-level-0);\n",
       "  border: var(--sklearn-color-fitted-level-3);\n",
       "}\n",
       "\n",
       ".sk-estimator-doc-link:hover span {\n",
       "  display: block;\n",
       "}\n",
       "\n",
       "/* \"?\"-specific style due to the `<a>` HTML tag */\n",
       "\n",
       "#sk-container-id-2 a.estimator_doc_link {\n",
       "  float: right;\n",
       "  font-size: 1rem;\n",
       "  line-height: 1em;\n",
       "  font-family: monospace;\n",
       "  background-color: var(--sklearn-color-background);\n",
       "  border-radius: 1rem;\n",
       "  height: 1rem;\n",
       "  width: 1rem;\n",
       "  text-decoration: none;\n",
       "  /* unfitted */\n",
       "  color: var(--sklearn-color-unfitted-level-1);\n",
       "  border: var(--sklearn-color-unfitted-level-1) 1pt solid;\n",
       "}\n",
       "\n",
       "#sk-container-id-2 a.estimator_doc_link.fitted {\n",
       "  /* fitted */\n",
       "  border: var(--sklearn-color-fitted-level-1) 1pt solid;\n",
       "  color: var(--sklearn-color-fitted-level-1);\n",
       "}\n",
       "\n",
       "/* On hover */\n",
       "#sk-container-id-2 a.estimator_doc_link:hover {\n",
       "  /* unfitted */\n",
       "  background-color: var(--sklearn-color-unfitted-level-3);\n",
       "  color: var(--sklearn-color-background);\n",
       "  text-decoration: none;\n",
       "}\n",
       "\n",
       "#sk-container-id-2 a.estimator_doc_link.fitted:hover {\n",
       "  /* fitted */\n",
       "  background-color: var(--sklearn-color-fitted-level-3);\n",
       "}\n",
       "</style><div id=\"sk-container-id-2\" class=\"sk-top-container\"><div class=\"sk-text-repr-fallback\"><pre>LinearRegression()</pre><b>In a Jupyter environment, please rerun this cell to show the HTML representation or trust the notebook. <br />On GitHub, the HTML representation is unable to render, please try loading this page with nbviewer.org.</b></div><div class=\"sk-container\" hidden><div class=\"sk-item\"><div class=\"sk-estimator fitted sk-toggleable\"><input class=\"sk-toggleable__control sk-hidden--visually\" id=\"sk-estimator-id-2\" type=\"checkbox\" checked><label for=\"sk-estimator-id-2\" class=\"sk-toggleable__label fitted sk-toggleable__label-arrow fitted\">&nbsp;&nbsp;LinearRegression<a class=\"sk-estimator-doc-link fitted\" rel=\"noreferrer\" target=\"_blank\" href=\"https://scikit-learn.org/1.5/modules/generated/sklearn.linear_model.LinearRegression.html\">?<span>Documentation for LinearRegression</span></a><span class=\"sk-estimator-doc-link fitted\">i<span>Fitted</span></span></label><div class=\"sk-toggleable__content fitted\"><pre>LinearRegression()</pre></div> </div></div></div></div>"
      ],
      "text/plain": [
       "LinearRegression()"
      ]
     },
     "execution_count": 203,
     "metadata": {},
     "output_type": "execute_result"
    }
   ],
   "source": [
    "model = LinearRegression()\n",
    "model.fit(x_train, y_train)         # our model is train"
   ]
  },
  {
   "cell_type": "markdown",
   "id": "50e5ffcc-9ef8-4142-8da9-c44abefefd23",
   "metadata": {},
   "source": [
    "## 7 evaluation"
   ]
  },
  {
   "cell_type": "code",
   "execution_count": null,
   "id": "2122c53e-4bd8-4a9f-bd8b-e82e816ff4d2",
   "metadata": {},
   "outputs": [],
   "source": [
    "x_train, y_train\n",
    "x_test , y_test\n",
    "\n",
    "r2   > 0-1   > 0.7\n",
    "msc"
   ]
  },
  {
   "cell_type": "code",
   "execution_count": null,
   "id": "44604089-7dd1-4cd0-80c7-5cf8724e4a5b",
   "metadata": {},
   "outputs": [],
   "source": [
    "training\n",
    "testing"
   ]
  },
  {
   "cell_type": "code",
   "execution_count": 206,
   "id": "bb83664b-b8c9-4d8a-b805-1b25b72e2ad6",
   "metadata": {},
   "outputs": [
    {
     "data": {
      "text/plain": [
       "array([731087.16091403, 275013.3363762 , 547663.2113464 , ...,\n",
       "       181291.93807519, 566698.58550591, 477607.6562504 ])"
      ]
     },
     "execution_count": 206,
     "metadata": {},
     "output_type": "execute_result"
    }
   ],
   "source": []
  },
  {
   "cell_type": "code",
   "execution_count": 219,
   "id": "881c2921-bf7d-4928-af03-beded18ad02b",
   "metadata": {},
   "outputs": [
    {
     "data": {
      "text/plain": [
       "4227    721396\n",
       "4676    291293\n",
       "800     557759\n",
       "3671    754241\n",
       "4193    292600\n",
       "         ...  \n",
       "4426    540891\n",
       "466     680421\n",
       "3092    181084\n",
       "3772    577127\n",
       "860     505008\n",
       "Name: price, Length: 4000, dtype: int64"
      ]
     },
     "execution_count": 219,
     "metadata": {},
     "output_type": "execute_result"
    }
   ],
   "source": [
    "y_train    #"
   ]
  },
  {
   "cell_type": "code",
   "execution_count": 221,
   "id": "d865dc3b-0167-4896-981c-e8ba1dc65a14",
   "metadata": {},
   "outputs": [
    {
     "name": "stdout",
     "output_type": "stream",
     "text": [
      "accuracy for train :- 0.9879649042128996\n",
      "mean squared error for train is :- 401901641.9119612\n",
      "rmse :- 20047.48467793307\n"
     ]
    }
   ],
   "source": [
    "# we want to calculated y_pred\n",
    "y_pred = model.predict(x_train)\n",
    "\n",
    "accuracy_train = r2_score(y_train,y_pred)\n",
    "print(\"accuracy for train :-\",accuracy_train)\n",
    "\n",
    "mse = mean_squared_error(y_train,y_pred)\n",
    "print(\"mean squared error for train is :-\",mse)\n",
    "\n",
    "rmse = np.sqrt(mse)\n",
    "print(\"rmse :-\",rmse)"
   ]
  },
  {
   "cell_type": "code",
   "execution_count": 225,
   "id": "53de1854-53be-4df1-bad6-464cb8bcd2bb",
   "metadata": {},
   "outputs": [
    {
     "data": {
      "text/plain": [
       "array([731087.16091403, 275013.3363762 , 547663.2113464 , ...,\n",
       "       181291.93807519, 566698.58550591, 477607.6562504 ])"
      ]
     },
     "execution_count": 225,
     "metadata": {},
     "output_type": "execute_result"
    }
   ],
   "source": [
    "y_pred"
   ]
  },
  {
   "cell_type": "code",
   "execution_count": 223,
   "id": "1e625264-8a3d-4bde-8e8c-82175eb91ed8",
   "metadata": {},
   "outputs": [
    {
     "data": {
      "text/plain": [
       "4227    721396\n",
       "4676    291293\n",
       "800     557759\n",
       "3671    754241\n",
       "4193    292600\n",
       "         ...  \n",
       "4426    540891\n",
       "466     680421\n",
       "3092    181084\n",
       "3772    577127\n",
       "860     505008\n",
       "Name: price, Length: 4000, dtype: int64"
      ]
     },
     "execution_count": 223,
     "metadata": {},
     "output_type": "execute_result"
    }
   ],
   "source": [
    "y_train"
   ]
  },
  {
   "cell_type": "code",
   "execution_count": 227,
   "id": "654a9903-70bf-46e0-8fef-d792798c02b8",
   "metadata": {},
   "outputs": [
    {
     "name": "stdout",
     "output_type": "stream",
     "text": [
      "accuracy_test is :- 0.9881649565155366\n",
      "mse test is :- 398100103.67941445\n",
      "rmse test is :- 19952.446057549296\n"
     ]
    }
   ],
   "source": [
    "# evaluation on testing\n",
    "y_pred_test = model.predict(x_test)\n",
    "\n",
    "accuracy_test = r2_score(y_test, y_pred_test)\n",
    "print(\"accuracy_test is :-\",accuracy_test)\n",
    "\n",
    "mse_test = mean_squared_error(y_test, y_pred_test)\n",
    "print(\"mse test is :-\",mse_test)\n",
    "\n",
    "rmse_test = np.sqrt(mse_test)\n",
    "print(\"rmse test is :-\",rmse_test)"
   ]
  },
  {
   "cell_type": "code",
   "execution_count": null,
   "id": "8ee52c0f-d075-469a-ae1b-b8c457327c4c",
   "metadata": {},
   "outputs": [],
   "source": [
    "train = 0.987\n",
    "test  = 0.988\n",
    "good model"
   ]
  },
  {
   "cell_type": "markdown",
   "id": "a0586ccb-7e3f-4b90-9846-687c7f514326",
   "metadata": {},
   "source": [
    "# overfitting and under fitting"
   ]
  },
  {
   "cell_type": "code",
   "execution_count": null,
   "id": "e233216e-8efa-43d3-9415-e581dcaad5db",
   "metadata": {},
   "outputs": [],
   "source": [
    "train = 0.987\n",
    "test  = 0.688"
   ]
  },
  {
   "cell_type": "markdown",
   "id": "7d681583-118e-495c-8ab4-31c8e7dffe52",
   "metadata": {},
   "source": [
    "# try to prediction on new data"
   ]
  },
  {
   "cell_type": "code",
   "execution_count": 232,
   "id": "376e3992-8cb8-4f78-be70-c0bcb524aa3e",
   "metadata": {},
   "outputs": [
    {
     "data": {
      "text/plain": [
       "['area', 'bedrooms', 'age']"
      ]
     },
     "execution_count": 232,
     "metadata": {},
     "output_type": "execute_result"
    }
   ],
   "source": [
    "features"
   ]
  },
  {
   "cell_type": "code",
   "execution_count": 242,
   "id": "be84c319-5a5a-42d1-ac2c-da7f74833477",
   "metadata": {},
   "outputs": [
    {
     "data": {
      "text/html": [
       "<div>\n",
       "<style scoped>\n",
       "    .dataframe tbody tr th:only-of-type {\n",
       "        vertical-align: middle;\n",
       "    }\n",
       "\n",
       "    .dataframe tbody tr th {\n",
       "        vertical-align: top;\n",
       "    }\n",
       "\n",
       "    .dataframe thead th {\n",
       "        text-align: right;\n",
       "    }\n",
       "</style>\n",
       "<table border=\"1\" class=\"dataframe\">\n",
       "  <thead>\n",
       "    <tr style=\"text-align: right;\">\n",
       "      <th></th>\n",
       "      <th>area</th>\n",
       "      <th>bedrooms</th>\n",
       "      <th>age</th>\n",
       "    </tr>\n",
       "  </thead>\n",
       "  <tbody>\n",
       "    <tr>\n",
       "      <th>0</th>\n",
       "      <td>3756</td>\n",
       "      <td>3</td>\n",
       "      <td>10</td>\n",
       "    </tr>\n",
       "  </tbody>\n",
       "</table>\n",
       "</div>"
      ],
      "text/plain": [
       "   area  bedrooms  age\n",
       "0  3756         3   10"
      ]
     },
     "execution_count": 242,
     "metadata": {},
     "output_type": "execute_result"
    }
   ],
   "source": [
    "new_data = pd.DataFrame([[3756,3,10]], columns = features)\n",
    "new_data"
   ]
  },
  {
   "cell_type": "code",
   "execution_count": 244,
   "id": "b5a4c675-dbe3-4e7a-b9a2-e91f244ec401",
   "metadata": {},
   "outputs": [
    {
     "name": "stdout",
     "output_type": "stream",
     "text": [
      "predicted price for new house is :- 588635.3940750542\n"
     ]
    }
   ],
   "source": [
    "predicted_price = model.predict(new_data)\n",
    "print(\"predicted price for new house is :-\",predicted_price[0])"
   ]
  },
  {
   "cell_type": "code",
   "execution_count": 246,
   "id": "cb9ff49c-701e-4a82-9080-894cfd436131",
   "metadata": {},
   "outputs": [
    {
     "data": {
      "text/plain": [
       "array([588635.39407505])"
      ]
     },
     "execution_count": 246,
     "metadata": {},
     "output_type": "execute_result"
    }
   ],
   "source": [
    "predicted_price"
   ]
  },
  {
   "cell_type": "code",
   "execution_count": 248,
   "id": "67ae147d-f179-478f-81ed-72a7caf0f90d",
   "metadata": {},
   "outputs": [
    {
     "data": {
      "text/plain": [
       "12"
      ]
     },
     "execution_count": 248,
     "metadata": {},
     "output_type": "execute_result"
    }
   ],
   "source": [
    "list1 = [12]\n",
    "list1[0]"
   ]
  },
  {
   "cell_type": "code",
   "execution_count": null,
   "id": "5dc2c45d-5372-42a9-a3ab-9b628397c93f",
   "metadata": {},
   "outputs": [],
   "source": []
  }
 ],
 "metadata": {
  "kernelspec": {
   "display_name": "Python 3 (ipykernel)",
   "language": "python",
   "name": "python3"
  },
  "language_info": {
   "codemirror_mode": {
    "name": "ipython",
    "version": 3
   },
   "file_extension": ".py",
   "mimetype": "text/x-python",
   "name": "python",
   "nbconvert_exporter": "python",
   "pygments_lexer": "ipython3",
   "version": "3.12.4"
  }
 },
 "nbformat": 4,
 "nbformat_minor": 5
}
